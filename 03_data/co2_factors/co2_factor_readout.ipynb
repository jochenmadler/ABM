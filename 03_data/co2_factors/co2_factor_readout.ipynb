{
 "cells": [
  {
   "cell_type": "code",
   "execution_count": 8,
   "outputs": [],
   "source": [
    "import os\n",
    "from datetime import datetime\n",
    "from datetime import timedelta\n",
    "import pandas as pd\n",
    "import numpy as np\n",
    "import matplotlib.pyplot as plt\n",
    "home_path = 'C:\\\\Users\\joche\\FIM Kernkompetenzzentrum\\Paper Agent-based Modeling - Dokumente\\General\\\\01 Data\\co2_factors'\n",
    "os.chdir(home_path)"
   ],
   "metadata": {
    "collapsed": false,
    "pycharm": {
     "name": "#%%\n"
    }
   }
  },
  {
   "cell_type": "code",
   "execution_count": 10,
   "outputs": [],
   "source": [
    "# for each row, add n empty ones\n",
    "def df_add_rows(df, n):\n",
    "    empty_rows = n\n",
    "    df.index = range(0, empty_rows * len(df), empty_rows)\n",
    "    df_out = df.reindex(index=range(empty_rows * len(df)))\n",
    "    return df_out\n",
    "\n",
    "def generate_time_series(start_date_str, end_date_str, interval_min):\n",
    "    start_date = datetime.strptime(start_date_str, \"%Y-%m-%d %H:%M\")\n",
    "    end_date = datetime.strptime(end_date_str, \"%Y-%m-%d %H:%M\")\n",
    "    interval = timedelta(hours=interval_min / 60)\n",
    "    output = []\n",
    "    while start_date <= end_date:\n",
    "        output.append(start_date.strftime(\"%Y-%m-%d %H:%M\"))\n",
    "        start_date += interval\n",
    "    return output\n",
    "\n",
    "def generate_output(start_date_str, end_date_str, df):\n",
    "    qh_date_index = generate_time_series(start_date_str, end_date_str,interval_min=15)\n",
    "    df_year = pd.DataFrame(qh_date_index, columns=['time'])\n",
    "    df_year['gCO2e/kWh'] = df_add_rows(df, 4)\n",
    "    df_year.interpolate(axis=0, inplace=True)\n",
    "\n",
    "    return df_year"
   ],
   "metadata": {
    "collapsed": false,
    "pycharm": {
     "name": "#%%\n"
    }
   }
  },
  {
   "cell_type": "code",
   "execution_count": 11,
   "outputs": [
    {
     "data": {
      "text/plain": "      g_d [g/kWh]\nslot             \n0      151.766877\n1      153.524632\n2      155.675887\n3      159.213644\n4      163.147246\n...           ...\n8755          NaN\n8756          NaN\n8757          NaN\n8758          NaN\n8759          NaN\n\n[8760 rows x 1 columns]",
      "text/html": "<div>\n<style scoped>\n    .dataframe tbody tr th:only-of-type {\n        vertical-align: middle;\n    }\n\n    .dataframe tbody tr th {\n        vertical-align: top;\n    }\n\n    .dataframe thead th {\n        text-align: right;\n    }\n</style>\n<table border=\"1\" class=\"dataframe\">\n  <thead>\n    <tr style=\"text-align: right;\">\n      <th></th>\n      <th>g_d [g/kWh]</th>\n    </tr>\n    <tr>\n      <th>slot</th>\n      <th></th>\n    </tr>\n  </thead>\n  <tbody>\n    <tr>\n      <th>0</th>\n      <td>151.766877</td>\n    </tr>\n    <tr>\n      <th>1</th>\n      <td>153.524632</td>\n    </tr>\n    <tr>\n      <th>2</th>\n      <td>155.675887</td>\n    </tr>\n    <tr>\n      <th>3</th>\n      <td>159.213644</td>\n    </tr>\n    <tr>\n      <th>4</th>\n      <td>163.147246</td>\n    </tr>\n    <tr>\n      <th>...</th>\n      <td>...</td>\n    </tr>\n    <tr>\n      <th>8755</th>\n      <td>NaN</td>\n    </tr>\n    <tr>\n      <th>8756</th>\n      <td>NaN</td>\n    </tr>\n    <tr>\n      <th>8757</th>\n      <td>NaN</td>\n    </tr>\n    <tr>\n      <th>8758</th>\n      <td>NaN</td>\n    </tr>\n    <tr>\n      <th>8759</th>\n      <td>NaN</td>\n    </tr>\n  </tbody>\n</table>\n<p>8760 rows × 1 columns</p>\n</div>"
     },
     "execution_count": 11,
     "metadata": {},
     "output_type": "execute_result"
    }
   ],
   "source": [
    "# read in file\n",
    "df = pd.read_excel('co2_factors_2022.xlsx', index_col=0)\n",
    "df"
   ],
   "metadata": {
    "collapsed": false,
    "pycharm": {
     "name": "#%%\n"
    }
   }
  },
  {
   "cell_type": "code",
   "execution_count": 16,
   "outputs": [
    {
     "data": {
      "text/plain": "                   time   gCO2e/kWh\n0      2022-01-01 00:00  151.766877\n1      2022-01-01 00:15  152.206316\n2      2022-01-01 00:30  152.645755\n3      2022-01-01 00:45  153.085193\n4      2022-01-01 01:00  153.524632\n...                 ...         ...\n35035  2022-12-31 22:45  288.518856\n35036  2022-12-31 23:00  288.518856\n35037  2022-12-31 23:15  288.518856\n35038  2022-12-31 23:30  288.518856\n35039  2022-12-31 23:45  288.518856\n\n[35040 rows x 2 columns]",
      "text/html": "<div>\n<style scoped>\n    .dataframe tbody tr th:only-of-type {\n        vertical-align: middle;\n    }\n\n    .dataframe tbody tr th {\n        vertical-align: top;\n    }\n\n    .dataframe thead th {\n        text-align: right;\n    }\n</style>\n<table border=\"1\" class=\"dataframe\">\n  <thead>\n    <tr style=\"text-align: right;\">\n      <th></th>\n      <th>time</th>\n      <th>gCO2e/kWh</th>\n    </tr>\n  </thead>\n  <tbody>\n    <tr>\n      <th>0</th>\n      <td>2022-01-01 00:00</td>\n      <td>151.766877</td>\n    </tr>\n    <tr>\n      <th>1</th>\n      <td>2022-01-01 00:15</td>\n      <td>152.206316</td>\n    </tr>\n    <tr>\n      <th>2</th>\n      <td>2022-01-01 00:30</td>\n      <td>152.645755</td>\n    </tr>\n    <tr>\n      <th>3</th>\n      <td>2022-01-01 00:45</td>\n      <td>153.085193</td>\n    </tr>\n    <tr>\n      <th>4</th>\n      <td>2022-01-01 01:00</td>\n      <td>153.524632</td>\n    </tr>\n    <tr>\n      <th>...</th>\n      <td>...</td>\n      <td>...</td>\n    </tr>\n    <tr>\n      <th>35035</th>\n      <td>2022-12-31 22:45</td>\n      <td>288.518856</td>\n    </tr>\n    <tr>\n      <th>35036</th>\n      <td>2022-12-31 23:00</td>\n      <td>288.518856</td>\n    </tr>\n    <tr>\n      <th>35037</th>\n      <td>2022-12-31 23:15</td>\n      <td>288.518856</td>\n    </tr>\n    <tr>\n      <th>35038</th>\n      <td>2022-12-31 23:30</td>\n      <td>288.518856</td>\n    </tr>\n    <tr>\n      <th>35039</th>\n      <td>2022-12-31 23:45</td>\n      <td>288.518856</td>\n    </tr>\n  </tbody>\n</table>\n<p>35040 rows × 2 columns</p>\n</div>"
     },
     "execution_count": 16,
     "metadata": {},
     "output_type": "execute_result"
    }
   ],
   "source": [
    "# interplote hourly to quarter hourly df\n",
    "co2e_2019 = generate_output(start_date_str='2019-01-01 00:00', end_date_str='2019-12-31 23:45', df = df)\n",
    "co2e_2022 = generate_output(start_date_str='2022-01-01 00:00', end_date_str='2022-12-31 23:45', df = df)\n",
    "co2e_2022"
   ],
   "metadata": {
    "collapsed": false,
    "pycharm": {
     "name": "#%%\n"
    }
   }
  },
  {
   "cell_type": "code",
   "execution_count": 18,
   "outputs": [],
   "source": [
    "# save to file\n",
    "os.chdir(home_path)\n",
    "co2e_2019.to_excel('2019_qh_gCO2e_kWh.xlsx')\n",
    "co2e_2022.to_excel('2022_qh_gCO2e_kWh.xlsx')"
   ],
   "metadata": {
    "collapsed": false,
    "pycharm": {
     "name": "#%%\n"
    }
   }
  }
 ],
 "metadata": {
  "kernelspec": {
   "name": "abm",
   "language": "python",
   "display_name": "abm"
  },
  "language_info": {
   "codemirror_mode": {
    "name": "ipython",
    "version": 2
   },
   "file_extension": ".py",
   "mimetype": "text/x-python",
   "name": "python",
   "nbconvert_exporter": "python",
   "pygments_lexer": "ipython2",
   "version": "2.7.6"
  }
 },
 "nbformat": 4,
 "nbformat_minor": 0
}