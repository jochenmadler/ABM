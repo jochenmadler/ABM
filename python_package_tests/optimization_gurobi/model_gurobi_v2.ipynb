{
 "cells": [
  {
   "cell_type": "code",
   "execution_count": 1,
   "outputs": [],
   "source": [
    "import random\n",
    "import gurobipy as gp\n",
    "import numpy as np\n",
    "from gurobipy import GRB\n",
    "from operator import add"
   ],
   "metadata": {
    "collapsed": false,
    "pycharm": {
     "name": "#%%\n"
    }
   }
  },
  {
   "cell_type": "code",
   "execution_count": 104,
   "outputs": [],
   "source": [
    "# data\n",
    "D_bl = 10\n",
    "PV = 5\n",
    "M = 200"
   ],
   "metadata": {
    "collapsed": false,
    "pycharm": {
     "name": "#%%\n"
    }
   }
  },
  {
   "cell_type": "code",
   "execution_count": 105,
   "outputs": [
    {
     "data": {
      "text/plain": "[5.0, 10.0, -190.0]"
     },
     "execution_count": 105,
     "metadata": {},
     "output_type": "execute_result"
    }
   ],
   "source": [
    "m = gp.Model('test')\n",
    "# vars\n",
    "pv = m.addVar(vtype=GRB.INTEGER, name='pv')\n",
    "pv_sur = m.addVar(vtype=GRB.BINARY, name='pv_sur')\n",
    "# constr\n",
    "m.addConstr(pv <= PV, name='pv_ub')\n",
    "m.addConstr(-(M * pv_sur) + pv <= D_bl, name='pv_sur_t')\n",
    "m.addConstr(M * (1 - pv_sur) + pv >= D_bl, name='pv_sur_f')\n",
    "# obj\n",
    "m.setObjective(pv, GRB.MAXIMIZE)\n",
    "m.update()\n",
    "[m.getConstrByName('pv_ub').RHS, m.getConstrByName('pv_sur_t').RHS, m.getConstrByName('pv_sur_f').RHS]"
   ],
   "metadata": {
    "collapsed": false,
    "pycharm": {
     "name": "#%%\n"
    }
   }
  },
  {
   "cell_type": "code",
   "execution_count": 111,
   "outputs": [
    {
     "data": {
      "text/plain": "[10.0, -190.0]"
     },
     "execution_count": 111,
     "metadata": {},
     "output_type": "execute_result"
    }
   ],
   "source": [
    "D_bl_v1 = 10\n",
    "PV_v1 = 5\n",
    "m.setAttr('RHS', m.getConstrByName('pv_ub'), PV_v1)\n",
    "m.setAttr('RHS', m.getConstrByName('pv_sur_t'), D_bl_v1)\n",
    "m.setAttr('RHS', m.getConstrByName('pv_sur_f'), D_bl_v1 - M)\n",
    "[m.getConstrByName('pv_sur_t').RHS, m.getConstrByName('pv_sur_f').RHS]"
   ],
   "metadata": {
    "collapsed": false,
    "pycharm": {
     "name": "#%%\n"
    }
   }
  },
  {
   "cell_type": "code",
   "execution_count": 112,
   "outputs": [
    {
     "name": "stdout",
     "output_type": "stream",
     "text": [
      "Gurobi Optimizer version 9.5.2 build v9.5.2rc0 (win64)\n",
      "Thread count: 8 physical cores, 16 logical processors, using up to 16 threads\n",
      "Optimize a model with 3 rows, 2 columns and 5 nonzeros\n",
      "Model fingerprint: 0x9c9f0238\n",
      "Variable types: 0 continuous, 2 integer (1 binary)\n",
      "Coefficient statistics:\n",
      "  Matrix range     [1e+00, 2e+02]\n",
      "  Objective range  [1e+00, 1e+00]\n",
      "  Bounds range     [1e+00, 1e+00]\n",
      "  RHS range        [5e+00, 2e+02]\n",
      "\n",
      "Loaded MIP start from previous solve with objective 5\n",
      "\n",
      "Presolve removed 3 rows and 2 columns\n",
      "Presolve time: 0.00s\n",
      "Presolve: All rows and columns removed\n",
      "\n",
      "Explored 0 nodes (0 simplex iterations) in 0.02 seconds (0.00 work units)\n",
      "Thread count was 1 (of 16 available processors)\n",
      "\n",
      "Solution count 1: 5 \n",
      "\n",
      "Optimal solution found (tolerance 1.00e-04)\n",
      "Best objective 5.000000000000e+00, best bound 5.000000000000e+00, gap 0.0000%\n"
     ]
    },
    {
     "data": {
      "text/plain": "[<gurobi.Var pv (value 5.0)>, <gurobi.Var pv_sur (value 0.0)>]"
     },
     "execution_count": 112,
     "metadata": {},
     "output_type": "execute_result"
    }
   ],
   "source": [
    "# obj\n",
    "m.optimize()\n",
    "m.getVars()"
   ],
   "metadata": {
    "collapsed": false,
    "pycharm": {
     "name": "#%%\n"
    }
   }
  },
  {
   "cell_type": "code",
   "execution_count": 2,
   "outputs": [],
   "source": [
    "# generate mock data\n",
    "def generate_data():\n",
    "    PV = [random.randrange(10) for i in range(5)]\n",
    "    D_bl = [random.randrange(6) for i in range(5)]\n",
    "    H_bl = [i * 2 for i in D_bl]\n",
    "    price = [1 for i in range (5)]\n",
    "\n",
    "    return PV, D_bl, H_bl, price"
   ],
   "metadata": {
    "collapsed": false,
    "pycharm": {
     "name": "#%%\n"
    }
   }
  },
  {
   "cell_type": "code",
   "execution_count": 3,
   "outputs": [],
   "source": [
    "def print_results():\n",
    "    print(f'D_bl:\\t {D_bl}')\n",
    "    print(f'H_bl:\\t {H_bl}')\n",
    "    print(f'Sum_bl:  {[int(D_bl[i] + H_bl[i]) for i in range(len(D_bl))]}')\n",
    "    print(f'PV:\\t\\t {PV}')\n",
    "    print(f'pv:\\t\\t', [int(i.X) for i in m.getVars() if 'pv' in i.VarName])\n",
    "    print(f'g_d:\\t', [int(i.X) for i in m.getVars() if 'g' in i.VarName])\n",
    "    print(f'sum(g_d, pv) =', np.sum([int(i.X) for i in m.getVars() if any(x in i.VarName for x in ('pv', 'g'))]))\n",
    "    print(f'sum(D_bl, H_bl) =', np.sum(list(map(add, D_bl, H_bl))))\n",
    "    return"
   ],
   "metadata": {
    "collapsed": false,
    "pycharm": {
     "name": "#%%\n"
    }
   }
  },
  {
   "cell_type": "code",
   "execution_count": 4,
   "outputs": [
    {
     "name": "stdout",
     "output_type": "stream",
     "text": [
      "Set parameter Username\n",
      "Academic license - for non-commercial use only - expires 2023-08-31\n"
     ]
    }
   ],
   "source": [
    "# set up model\n",
    "m = gp.Model('energy')\n",
    "\n",
    "# set up variables\n",
    "time_index = range(5)\n",
    "pv = m.addVars(time_index, vtype=GRB.INTEGER, name='pv')\n",
    "g_d = m.addVars(time_index, vtype=GRB.INTEGER, lb=0, name='g_d')\n",
    "\n",
    "# get mock data\n",
    "PV, D_bl, H_bl, price = generate_data()\n",
    "\n",
    "# add constraints\n",
    "for i in time_index:\n",
    "    m.addConstr(pv[i] <= PV[i], name=f'pv_ub_{i}')\n",
    "    m.addConstr(g_d[i] + pv[i] >= D_bl[i] + H_bl[i], name=f'd_bl_{i}')\n",
    "m.addConstr(gp.quicksum(g_d[i] + pv[i] for i in time_index) >= gp.quicksum(D_bl[i] + H_bl[i] for i in time_index), name='d_bl_sum')\n",
    "\n",
    "# set objective\n",
    "m.setObjective(gp.quicksum(g_d[i] * price[i] + pv[i] * 0.01 * price[i] for i in time_index), GRB.MINIMIZE)"
   ],
   "metadata": {
    "collapsed": false,
    "pycharm": {
     "name": "#%%\n"
    }
   }
  },
  {
   "cell_type": "code",
   "execution_count": 5,
   "outputs": [
    {
     "name": "stdout",
     "output_type": "stream",
     "text": [
      "Gurobi Optimizer version 9.5.2 build v9.5.2rc0 (win64)\n",
      "Thread count: 8 physical cores, 16 logical processors, using up to 16 threads\n",
      "Optimize a model with 11 rows, 10 columns and 25 nonzeros\n",
      "Model fingerprint: 0x994315aa\n",
      "Variable types: 0 continuous, 10 integer (0 binary)\n",
      "Coefficient statistics:\n",
      "  Matrix range     [1e+00, 1e+00]\n",
      "  Objective range  [1e-02, 1e+00]\n",
      "  Bounds range     [0e+00, 0e+00]\n",
      "  RHS range        [2e+00, 4e+01]\n",
      "Found heuristic solution: objective 36.0000000\n",
      "Presolve removed 11 rows and 10 columns\n",
      "Presolve time: 0.00s\n",
      "Presolve: All rows and columns removed\n",
      "\n",
      "Explored 0 nodes (0 simplex iterations) in 0.02 seconds (0.00 work units)\n",
      "Thread count was 1 (of 16 available processors)\n",
      "\n",
      "Solution count 2: 20.16 36 \n",
      "\n",
      "Optimal solution found (tolerance 1.00e-04)\n",
      "Best objective 2.016000000000e+01, best bound 2.016000000000e+01, gap 0.0000%\n"
     ]
    }
   ],
   "source": [
    "m.optimize()"
   ],
   "metadata": {
    "collapsed": false,
    "pycharm": {
     "name": "#%%\n"
    }
   }
  },
  {
   "cell_type": "code",
   "execution_count": 6,
   "outputs": [
    {
     "name": "stdout",
     "output_type": "stream",
     "text": [
      "D_bl:\t [1, 1, 5, 2, 3]\n",
      "H_bl:\t [2, 2, 10, 4, 6]\n",
      "Sum_bl:  [3, 3, 15, 6, 9]\n",
      "PV:\t\t [2, 5, 2, 3, 6]\n",
      "pv:\t\t [2, 3, 2, 3, 6]\n",
      "g_d:\t [1, 0, 13, 3, 3]\n",
      "sum(g_d, pv) = 36\n",
      "sum(D_bl, H_bl) = 36\n"
     ]
    }
   ],
   "source": [
    "print_results()"
   ],
   "metadata": {
    "collapsed": false,
    "pycharm": {
     "name": "#%%\n"
    }
   }
  },
  {
   "cell_type": "code",
   "execution_count": null,
   "outputs": [],
   "source": [
    "# feed in different time series with one external variable on RHS\n",
    "PV = D_bl.copy()\n",
    "m.setAttr('RHS', [m.getConstrByName(f'pv_ub_{i}') for i in time_index], PV)"
   ],
   "metadata": {
    "collapsed": false,
    "pycharm": {
     "name": "#%%\n"
    }
   }
  },
  {
   "cell_type": "code",
   "execution_count": 310,
   "outputs": [],
   "source": [
    "# feed in different time series with two external variables on RHS\n",
    "D_bl = [5,4,3,2,1]\n",
    "H_bl = [1,2,3,4,5]\n",
    "m.setAttr('RHS', [m.getConstrByName(f'd_bl_{i}') for i in time_index], [D_bl[i] + H_bl[i] for i in time_index])"
   ],
   "metadata": {
    "collapsed": false,
    "pycharm": {
     "name": "#%%\n"
    }
   }
  },
  {
   "cell_type": "code",
   "execution_count": 317,
   "outputs": [],
   "source": [
    "# alter summation constraint (one value) in RHS\n",
    "m.setAttr('RHS', m.getConstrByName('d_bl_sum'), np.sum(list(map(add, D_bl, H_bl))))"
   ],
   "metadata": {
    "collapsed": false,
    "pycharm": {
     "name": "#%%\n"
    }
   }
  },
  {
   "cell_type": "code",
   "execution_count": 190,
   "outputs": [
    {
     "name": "stdout",
     "output_type": "stream",
     "text": [
      "Gurobi Optimizer version 9.5.2 build v9.5.2rc0 (win64)\n",
      "Thread count: 8 physical cores, 16 logical processors, using up to 16 threads\n",
      "Optimize a model with 10 rows, 10 columns and 15 nonzeros\n",
      "Model fingerprint: 0x2c3c0261\n",
      "Variable types: 0 continuous, 10 integer (0 binary)\n",
      "Coefficient statistics:\n",
      "  Matrix range     [1e+00, 1e+00]\n",
      "  Objective range  [2e+00, 2e+00]\n",
      "  Bounds range     [0e+00, 0e+00]\n",
      "  RHS range        [1e+00, 7e+00]\n",
      "\n",
      "Loaded MIP start from previous solve with objective 34\n",
      "\n",
      "Presolve removed 10 rows and 10 columns\n",
      "Presolve time: 0.00s\n",
      "Presolve: All rows and columns removed\n",
      "\n",
      "Explored 0 nodes (0 simplex iterations) in 0.01 seconds (0.00 work units)\n",
      "Thread count was 1 (of 16 available processors)\n",
      "\n",
      "Solution count 1: 34 \n",
      "\n",
      "Optimal solution found (tolerance 1.00e-04)\n",
      "Best objective 3.400000000000e+01, best bound 3.400000000000e+01, gap 0.0000%\n"
     ]
    }
   ],
   "source": [
    "# alter objective function -> just execute m.setObjective() one more time\n",
    "price = [2 for i in range(5)]\n",
    "m.setObjective(gp.quicksum(g_d[i] * price[i] for i in time_index), GRB.MINIMIZE)\n",
    "m.optimize()\n",
    "m.ObjVal"
   ],
   "metadata": {
    "collapsed": false,
    "pycharm": {
     "name": "#%%\n"
    }
   }
  },
  {
   "cell_type": "code",
   "execution_count": 283,
   "outputs": [],
   "source": [
    "l1 = [1,2,3] * 96\n",
    "l2 = [2,4,6] * 96"
   ],
   "metadata": {
    "collapsed": false,
    "pycharm": {
     "name": "#%%\n"
    }
   }
  },
  {
   "cell_type": "code",
   "execution_count": 291,
   "outputs": [
    {
     "name": "stdout",
     "output_type": "stream",
     "text": [
      "16 µs ± 449 ns per loop (mean ± std. dev. of 7 runs, 100,000 loops each)\n",
      "23.9 µs ± 589 ns per loop (mean ± std. dev. of 7 runs, 10,000 loops each)\n",
      "40.1 µs ± 133 ns per loop (mean ± std. dev. of 7 runs, 10,000 loops each)\n"
     ]
    }
   ],
   "source": [
    "%timeit list(map(add, l1, l2))\n",
    "%timeit [a + b for a,b in zip(l1,l2)]\n",
    "%timeit [l1[i] + l2[i] for i in range(len(l1))]"
   ],
   "metadata": {
    "collapsed": false,
    "pycharm": {
     "name": "#%%\n"
    }
   }
  }
 ],
 "metadata": {
  "kernelspec": {
   "name": "abm",
   "language": "python",
   "display_name": "abm"
  },
  "language_info": {
   "codemirror_mode": {
    "name": "ipython",
    "version": 2
   },
   "file_extension": ".py",
   "mimetype": "text/x-python",
   "name": "python",
   "nbconvert_exporter": "python",
   "pygments_lexer": "ipython2",
   "version": "2.7.6"
  }
 },
 "nbformat": 4,
 "nbformat_minor": 0
}