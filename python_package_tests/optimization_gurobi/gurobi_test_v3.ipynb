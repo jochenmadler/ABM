{
 "cells": [
  {
   "cell_type": "code",
   "execution_count": 1,
   "metadata": {},
   "outputs": [],
   "source": [
    "# imports\n",
    "import gurobipy as gp\n",
    "from gurobipy import GRB"
   ]
  },
  {
   "cell_type": "code",
   "execution_count": 3,
   "metadata": {},
   "outputs": [],
   "source": [
    "# data\n",
    "price_g_d = 18\n",
    "price_g_s = 6\n",
    "price_n_d = 16\n",
    "price_n_s = 10\n",
    "mean_share_n_d = .5\n",
    "mean_share_n_s = .5\n",
    "D_bl = 5"
   ]
  },
  {
   "cell_type": "code",
   "execution_count": 10,
   "metadata": {},
   "outputs": [
    {
     "data": {
      "text/plain": [
       "<gurobi.Constr *Awaiting Model Update*>"
      ]
     },
     "execution_count": 10,
     "metadata": {},
     "output_type": "execute_result"
    }
   ],
   "source": [
    "# model\n",
    "m = gp.Model('model1')\n",
    "\n",
    "# variables\n",
    "g_d = m.addVar(vtype=GRB.CONTINUOUS, name='g_d', lb = 0)\n",
    "g_s = m.addVar(vtype=GRB.CONTINUOUS, name='g_s', lb = 0)\n",
    "n_d = m.addVar(vtype=GRB.CONTINUOUS, name='n_d', lb = 0)\n",
    "n_s = m.addVar(vtype=GRB.CONTINUOUS, name='n_s', lb = 0)\n",
    "\n",
    "# obj function\n",
    "m.setObjective(price_g_d*g_d - price_g_s*g_s + price_n_d*(mean_share_n_d*n_d) - price_n_s*n_s, GRB.MINIMIZE)\n",
    "\n",
    "# constraints\n",
    "m.addConstr(g_d + (mean_share_n_d*n_d) - g_s - n_s >= D_bl)"
   ]
  },
  {
   "cell_type": "code",
   "execution_count": 11,
   "metadata": {},
   "outputs": [
    {
     "name": "stdout",
     "output_type": "stream",
     "text": [
      "Gurobi Optimizer version 9.5.2 build v9.5.2rc0 (win64)\n",
      "Thread count: 8 physical cores, 16 logical processors, using up to 16 threads\n",
      "Optimize a model with 1 rows, 4 columns and 4 nonzeros\n",
      "Model fingerprint: 0x7de07c75\n",
      "Coefficient statistics:\n",
      "  Matrix range     [5e-01, 1e+00]\n",
      "  Objective range  [6e+00, 2e+01]\n",
      "  Bounds range     [0e+00, 0e+00]\n",
      "  RHS range        [5e+00, 5e+00]\n",
      "Presolve removed 1 rows and 4 columns\n",
      "Presolve time: 0.01s\n",
      "Presolve: All rows and columns removed\n",
      "Iteration    Objective       Primal Inf.    Dual Inf.      Time\n",
      "       0    8.0000000e+01   0.000000e+00   0.000000e+00      0s\n",
      "\n",
      "Solved in 0 iterations and 0.01 seconds (0.00 work units)\n",
      "Optimal objective  8.000000000e+01\n"
     ]
    }
   ],
   "source": [
    "m.optimize()"
   ]
  },
  {
   "cell_type": "code",
   "execution_count": 12,
   "metadata": {},
   "outputs": [
    {
     "data": {
      "text/plain": [
       "[<gurobi.Var g_d (value 0.0)>,\n",
       " <gurobi.Var g_s (value 0.0)>,\n",
       " <gurobi.Var n_d (value 10.0)>,\n",
       " <gurobi.Var n_s (value 0.0)>]"
      ]
     },
     "execution_count": 12,
     "metadata": {},
     "output_type": "execute_result"
    }
   ],
   "source": [
    "[i for i in m.getVars()]"
   ]
  }
 ],
 "metadata": {
  "kernelspec": {
   "display_name": "Python 3.10.4 ('abm')",
   "language": "python",
   "name": "python3"
  },
  "language_info": {
   "codemirror_mode": {
    "name": "ipython",
    "version": 3
   },
   "file_extension": ".py",
   "mimetype": "text/x-python",
   "name": "python",
   "nbconvert_exporter": "python",
   "pygments_lexer": "ipython3",
   "version": "3.10.4"
  },
  "orig_nbformat": 4,
  "vscode": {
   "interpreter": {
    "hash": "4b63ed5fde112eee2a1ad32ad12dbaddccd15334ac41c730b7db42f546600377"
   }
  }
 },
 "nbformat": 4,
 "nbformat_minor": 2
}
