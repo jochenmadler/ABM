{
 "cells": [
  {
   "cell_type": "code",
   "execution_count": 2,
   "outputs": [],
   "source": [
    "# imports\n",
    "import gurobipy as gp\n",
    "from gurobipy import GRB"
   ],
   "metadata": {
    "collapsed": false,
    "pycharm": {
     "name": "#%%\n"
    }
   }
  },
  {
   "cell_type": "code",
   "execution_count": 3,
   "outputs": [
    {
     "name": "stdout",
     "output_type": "stream",
     "text": [
      "Restricted license - for non-production use only - expires 2023-10-25\n",
      "Gurobi Optimizer version 9.5.2 build v9.5.2rc0 (win64)\n",
      "Thread count: 8 physical cores, 16 logical processors, using up to 16 threads\n",
      "Optimize a model with 1 rows, 3 columns and 3 nonzeros\n",
      "Model fingerprint: 0x3eaaf627\n",
      "Variable types: 0 continuous, 3 integer (3 binary)\n",
      "Coefficient statistics:\n",
      "  Matrix range     [1e+00, 3e+00]\n",
      "  Objective range  [1e+00, 2e+00]\n",
      "  Bounds range     [1e+00, 1e+00]\n",
      "  RHS range        [4e+00, 4e+00]\n",
      "Found heuristic solution: objective 2.0000000\n",
      "Presolve removed 1 rows and 3 columns\n",
      "Presolve time: 0.01s\n",
      "Presolve: All rows and columns removed\n",
      "\n",
      "Explored 0 nodes (0 simplex iterations) in 0.03 seconds (0.00 work units)\n",
      "Thread count was 1 (of 16 available processors)\n",
      "\n",
      "Solution count 2: 3 2 \n",
      "\n",
      "Optimal solution found (tolerance 1.00e-04)\n",
      "Best objective 3.000000000000e+00, best bound 3.000000000000e+00, gap 0.0000%\n",
      "Freeing default Gurobi environment\n"
     ]
    }
   ],
   "source": [
    "# create model\n",
    "try:\n",
    "    # model\n",
    "    m = gp.Model('model1')\n",
    "    # variables\n",
    "    x = m.addVar(vtype=GRB.BINARY, name='x')\n",
    "    y = m.addVar(vtype=GRB.BINARY, name='y')\n",
    "    z = m.addVar(vtype=GRB.BINARY, name='z')\n",
    "\n",
    "    # objective function\n",
    "    m.setObjective(x + y + 2 * z, GRB.MAXIMIZE)\n",
    "    # constraints\n",
    "    m.addConstr(x + 2 * y + 3 * z <= 4)\n",
    "    #solve model\n",
    "    m.optimize()\n",
    "\n",
    "except gp.GurobiError as e:\n",
    "    print(f'Error code {e.errno}: {e}')\n",
    "except AttributeError:\n",
    "    print('AttributeError')\n",
    "\n",
    "# cleaning up to release resources\n",
    "gp.disposeDefaultEnv()"
   ],
   "metadata": {
    "collapsed": false,
    "pycharm": {
     "name": "#%%\n"
    }
   }
  },
  {
   "cell_type": "code",
   "execution_count": 4,
   "outputs": [
    {
     "name": "stdout",
     "output_type": "stream",
     "text": [
      "x\n",
      "1.0\n"
     ]
    }
   ],
   "source": [
    "# read out variables\n",
    "print(m.getVars()[0].VarName)\n",
    "print(m.getVars()[0].X)"
   ],
   "metadata": {
    "collapsed": false,
    "pycharm": {
     "name": "#%%\n"
    }
   }
  },
  {
   "cell_type": "code",
   "execution_count": 5,
   "outputs": [
    {
     "data": {
      "text/plain": "3.0"
     },
     "execution_count": 5,
     "metadata": {},
     "output_type": "execute_result"
    }
   ],
   "source": [
    "# read out objective value\n",
    "m.ObjVal"
   ],
   "metadata": {
    "collapsed": false,
    "pycharm": {
     "name": "#%%\n"
    }
   }
  },
  {
   "cell_type": "code",
   "execution_count": 6,
   "outputs": [
    {
     "data": {
      "text/plain": "{'a': <gurobi.Var *Awaiting Model Update*>,\n 'b': <gurobi.Var *Awaiting Model Update*>,\n 'c': <gurobi.Var *Awaiting Model Update*>}"
     },
     "execution_count": 6,
     "metadata": {},
     "output_type": "execute_result"
    }
   ],
   "source": [
    "# add multiple variables\n",
    "var_list = ['a', 'b', 'c']\n",
    "x = m.addVars(var_list, vtype=GRB.CONTINUOUS, name='x')\n",
    "x"
   ],
   "metadata": {
    "collapsed": false,
    "pycharm": {
     "name": "#%%\n"
    }
   }
  },
  {
   "cell_type": "code",
   "execution_count": 7,
   "outputs": [
    {
     "name": "stdout",
     "output_type": "stream",
     "text": [
      "{'x': 0, 'y': 1, 'z': 2}\n",
      "{'x': 1, 'y': 2, 'z': 3}\n"
     ]
    }
   ],
   "source": [
    "# multidict: https://www.gurobi.com/documentation/9.5/quickstart_windows/cs_dictionaries.html\n",
    "names, lower, upper = gp.multidict({'x': [0,1], 'y': [1,2], 'z': [2,3]})\n",
    "# creates two dicts with same keys\n",
    "print(lower)\n",
    "print(upper)"
   ],
   "metadata": {
    "collapsed": false,
    "pycharm": {
     "name": "#%%\n"
    }
   }
  },
  {
   "cell_type": "code",
   "execution_count": 8,
   "outputs": [
    {
     "name": "stdout",
     "output_type": "stream",
     "text": [
      "<gurobi.tuplelist (2 tuples, 2 values each):\n",
      " ( 1 , 2 )\n",
      " ( 1 , 4 )\n",
      ">\n",
      "<gurobi.tuplelist (2 tuples, 2 values each):\n",
      " ( 1 , 2 )\n",
      " ( 1 , 4 )\n",
      ">\n"
     ]
    }
   ],
   "source": [
    "# tuplelist: https://www.gurobi.com/documentation/9.5/quickstart_windows/cs_the_tuplelist_class.html\n",
    "l = gp.tuplelist([(1,2),(1,4),(2,3),(3,4)])\n",
    "# select tuples that have first value = 1 and second value either 2 or 4\n",
    "print(l.select(1,[2,4]))\n",
    "# select tuples that have first value = 1 and any second value\n",
    "print(l.select(1,'*'))"
   ],
   "metadata": {
    "collapsed": false,
    "pycharm": {
     "name": "#%%\n"
    }
   }
  },
  {
   "cell_type": "code",
   "execution_count": 9,
   "outputs": [
    {
     "name": "stdout",
     "output_type": "stream",
     "text": [
      "<gurobi.tuplelist (5 tuples, 2 values each):\n",
      " ( 1 , 2 )\n",
      " ( 1 , 4 )\n",
      " ( 2 , 3 )\n",
      " ( 3 , 4 )\n",
      " ( 3 , 4 )\n",
      ">\n"
     ]
    }
   ],
   "source": [
    "l += [(3,4)]\n",
    "print(l)"
   ],
   "metadata": {
    "collapsed": false,
    "pycharm": {
     "name": "#%%\n"
    }
   }
  },
  {
   "cell_type": "code",
   "execution_count": 10,
   "outputs": [],
   "source": [
    "# tupledict: https://www.gurobi.com/documentation/9.5/quickstart_windows/cs_the_tupledict_class.html\n",
    "l = list([(1,2),(1,4),(2,3),(3,3),(3,4)])\n",
    "d = m.addVars(l, name='d')\n",
    "m.update()"
   ],
   "metadata": {
    "collapsed": false,
    "pycharm": {
     "name": "#%%\n"
    }
   }
  },
  {
   "cell_type": "code",
   "execution_count": 11,
   "outputs": [
    {
     "data": {
      "text/plain": "[<gurobi.Var d[1,2]>, <gurobi.Var d[1,4]>]"
     },
     "execution_count": 11,
     "metadata": {},
     "output_type": "execute_result"
    }
   ],
   "source": [
    "# select certain variables\n",
    "d.select(1,'*')"
   ],
   "metadata": {
    "collapsed": false,
    "pycharm": {
     "name": "#%%\n"
    }
   }
  },
  {
   "cell_type": "code",
   "execution_count": 12,
   "outputs": [
    {
     "name": "stdout",
     "output_type": "stream",
     "text": [
      "Restricted license - for non-production use only - expires 2023-10-25\n"
     ]
    }
   ],
   "source": [
    "# example: https://www.gurobi.com/documentation/9.5/quickstart_windows/cs_netflow_py_example.html\n",
    "\n",
    "commodities = ['Pencils', 'Pens']\n",
    "nodes = ['Detroit', 'Denver', 'Boston', 'New York', 'Seattle']\n",
    "\n",
    "# arcs and their capacity\n",
    "arcs, capacity = gp.multidict({\n",
    "    ('Detroit', 'Boston'):   100,\n",
    "    ('Detroit', 'New York'):  80,\n",
    "    ('Detroit', 'Seattle'):  120,\n",
    "    ('Denver',  'Boston'):   120,\n",
    "    ('Denver',  'New York'): 120,\n",
    "    ('Denver',  'Seattle'):  120})\n",
    "\n",
    "# transportation cost for each variable and arc\n",
    "cost = {\n",
    "    ('Pencils', 'Detroit', 'Boston'):   10,\n",
    "    ('Pencils', 'Detroit', 'New York'): 20,\n",
    "    ('Pencils', 'Detroit', 'Seattle'):  60,\n",
    "    ('Pencils', 'Denver',  'Boston'):   40,\n",
    "    ('Pencils', 'Denver',  'New York'): 40,\n",
    "    ('Pencils', 'Denver',  'Seattle'):  30,\n",
    "    ('Pens',    'Detroit', 'Boston'):   20,\n",
    "    ('Pens',    'Detroit', 'New York'): 20,\n",
    "    ('Pens',    'Detroit', 'Seattle'):  80,\n",
    "    ('Pens',    'Denver',  'Boston'):   60,\n",
    "    ('Pens',    'Denver',  'New York'): 70,\n",
    "    ('Pens',    'Denver',  'Seattle'):  30}\n",
    "\n",
    "# Create optimization model\n",
    "m = gp.Model('netflow')\n",
    "\n",
    "# Create variables\n",
    "flow = m.addVars(commodities, arcs, obj=cost, name=\"flow\")\n",
    "\n"
   ],
   "metadata": {
    "collapsed": false,
    "pycharm": {
     "name": "#%%\n"
    }
   }
  },
  {
   "cell_type": "code",
   "execution_count": 25,
   "outputs": [
    {
     "data": {
      "text/plain": "{0: <gurobi.Var *Awaiting Model Update*>,\n 1: <gurobi.Var *Awaiting Model Update*>,\n 2: <gurobi.Var *Awaiting Model Update*>,\n 3: <gurobi.Var *Awaiting Model Update*>,\n 4: <gurobi.Var *Awaiting Model Update*>,\n 5: <gurobi.Var *Awaiting Model Update*>,\n 6: <gurobi.Var *Awaiting Model Update*>,\n 7: <gurobi.Var *Awaiting Model Update*>,\n 8: <gurobi.Var *Awaiting Model Update*>,\n 9: <gurobi.Var *Awaiting Model Update*>,\n 10: <gurobi.Var *Awaiting Model Update*>,\n 11: <gurobi.Var *Awaiting Model Update*>,\n 12: <gurobi.Var *Awaiting Model Update*>,\n 13: <gurobi.Var *Awaiting Model Update*>,\n 14: <gurobi.Var *Awaiting Model Update*>,\n 15: <gurobi.Var *Awaiting Model Update*>,\n 16: <gurobi.Var *Awaiting Model Update*>,\n 17: <gurobi.Var *Awaiting Model Update*>,\n 18: <gurobi.Var *Awaiting Model Update*>,\n 19: <gurobi.Var *Awaiting Model Update*>,\n 20: <gurobi.Var *Awaiting Model Update*>,\n 21: <gurobi.Var *Awaiting Model Update*>,\n 22: <gurobi.Var *Awaiting Model Update*>,\n 23: <gurobi.Var *Awaiting Model Update*>}"
     },
     "execution_count": 25,
     "metadata": {},
     "output_type": "execute_result"
    }
   ],
   "source": [
    "qgrid = m.addVars(list(range(24)))\n",
    "qgrid"
   ],
   "metadata": {
    "collapsed": false,
    "pycharm": {
     "name": "#%%\n"
    }
   }
  },
  {
   "cell_type": "code",
   "execution_count": 19,
   "outputs": [],
   "source": [
    "time_index = list(range(24))\n",
    "for t in range(24):\n",
    "    m.addConstr(qgrid[t] >= 34)"
   ],
   "metadata": {
    "collapsed": false,
    "pycharm": {
     "name": "#%%\n"
    }
   }
  },
  {
   "cell_type": "code",
   "execution_count": 20,
   "outputs": [],
   "source": [
    "m.setObjective(gp.quicksum(qgrid[t] for t in time_index))"
   ],
   "metadata": {
    "collapsed": false,
    "pycharm": {
     "name": "#%%\n"
    }
   }
  },
  {
   "cell_type": "code",
   "execution_count": 22,
   "outputs": [
    {
     "name": "stdout",
     "output_type": "stream",
     "text": [
      "Gurobi Optimizer version 9.5.2 build v9.5.2rc0 (win64)\n",
      "Thread count: 8 physical cores, 16 logical processors, using up to 16 threads\n",
      "Optimize a model with 72 rows, 36 columns and 72 nonzeros\n",
      "Coefficient statistics:\n",
      "  Matrix range     [1e+00, 1e+00]\n",
      "  Objective range  [1e+00, 1e+00]\n",
      "  Bounds range     [0e+00, 0e+00]\n",
      "  RHS range        [3e+01, 3e+01]\n",
      "\n",
      "Solved in 0 iterations and 0.00 seconds (0.00 work units)\n",
      "Optimal objective  8.160000000e+02\n"
     ]
    }
   ],
   "source": [
    "m.optimize()"
   ],
   "metadata": {
    "collapsed": false,
    "pycharm": {
     "name": "#%%\n"
    }
   }
  },
  {
   "cell_type": "code",
   "execution_count": 24,
   "outputs": [
    {
     "data": {
      "text/plain": "816"
     },
     "execution_count": 24,
     "metadata": {},
     "output_type": "execute_result"
    }
   ],
   "source": [
    "24*34"
   ],
   "metadata": {
    "collapsed": false,
    "pycharm": {
     "name": "#%%\n"
    }
   }
  }
 ],
 "metadata": {
  "kernelspec": {
   "name": "abm",
   "language": "python",
   "display_name": "abm"
  },
  "language_info": {
   "codemirror_mode": {
    "name": "ipython",
    "version": 2
   },
   "file_extension": ".py",
   "mimetype": "text/x-python",
   "name": "python",
   "nbconvert_exporter": "python",
   "pygments_lexer": "ipython2",
   "version": "2.7.6"
  }
 },
 "nbformat": 4,
 "nbformat_minor": 0
}