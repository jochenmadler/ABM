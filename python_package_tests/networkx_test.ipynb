{
 "cells": [
  {
   "cell_type": "code",
   "execution_count": 3,
   "metadata": {},
   "outputs": [],
   "source": [
    "import networkx as nx"
   ]
  },
  {
   "cell_type": "code",
   "execution_count": 19,
   "metadata": {},
   "outputs": [],
   "source": [
    "G = nx.Graph()\n",
    "G.add_nodes_from(list(range(5)))\n",
    "G.add_edges_from([(i,i+1) for i in range(4)])"
   ]
  },
  {
   "cell_type": "code",
   "execution_count": 21,
   "metadata": {},
   "outputs": [
    {
     "data": {
      "text/plain": [
       "[(0, 1), (1, 2), (2, 3), (3, 4)]"
      ]
     },
     "execution_count": 21,
     "metadata": {},
     "output_type": "execute_result"
    }
   ],
   "source": [
    "list(G.edges)"
   ]
  },
  {
   "cell_type": "code",
   "execution_count": 31,
   "metadata": {},
   "outputs": [
    {
     "data": {
      "text/plain": [
       "[1, 3]"
      ]
     },
     "execution_count": 31,
     "metadata": {},
     "output_type": "execute_result"
    }
   ],
   "source": [
    "[node for node in G.adj[2]]"
   ]
  },
  {
   "cell_type": "code",
   "execution_count": 53,
   "metadata": {},
   "outputs": [
    {
     "ename": "KeyError",
     "evalue": "'space'",
     "output_type": "error",
     "traceback": [
      "\u001b[1;31m---------------------------------------------------------------------------\u001b[0m",
      "\u001b[1;31mKeyError\u001b[0m                                  Traceback (most recent call last)",
      "\u001b[1;32mc:\\Users\\joche\\FIM Kernkompetenzzentrum\\Paper Agent-based Modeling - Dokumente\\General\\04 ABM\\python_package_tests\\networkx_test.ipynb Cell 5\u001b[0m in \u001b[0;36m<cell line: 1>\u001b[1;34m()\u001b[0m\n\u001b[1;32m----> <a href='vscode-notebook-cell:/c%3A/Users/joche/FIM%20Kernkompetenzzentrum/Paper%20Agent-based%20Modeling%20-%20Dokumente/General/04%20ABM/python_package_tests/networkx_test.ipynb#X11sZmlsZQ%3D%3D?line=0'>1</a>\u001b[0m [G\u001b[39m.\u001b[39mnodes[node][\u001b[39m'\u001b[39m\u001b[39mspace\u001b[39m\u001b[39m'\u001b[39m] \u001b[39m==\u001b[39m \u001b[39m'\u001b[39m\u001b[39mtest\u001b[39m\u001b[39m'\u001b[39m \u001b[39mfor\u001b[39;00m node \u001b[39min\u001b[39;00m G\u001b[39m.\u001b[39mnodes]\n\u001b[0;32m      <a href='vscode-notebook-cell:/c%3A/Users/joche/FIM%20Kernkompetenzzentrum/Paper%20Agent-based%20Modeling%20-%20Dokumente/General/04%20ABM/python_package_tests/networkx_test.ipynb#X11sZmlsZQ%3D%3D?line=1'>2</a>\u001b[0m G\u001b[39m.\u001b[39mnodes\u001b[39m.\u001b[39mdata()\n",
      "\u001b[1;32mc:\\Users\\joche\\FIM Kernkompetenzzentrum\\Paper Agent-based Modeling - Dokumente\\General\\04 ABM\\python_package_tests\\networkx_test.ipynb Cell 5\u001b[0m in \u001b[0;36m<listcomp>\u001b[1;34m(.0)\u001b[0m\n\u001b[1;32m----> <a href='vscode-notebook-cell:/c%3A/Users/joche/FIM%20Kernkompetenzzentrum/Paper%20Agent-based%20Modeling%20-%20Dokumente/General/04%20ABM/python_package_tests/networkx_test.ipynb#X11sZmlsZQ%3D%3D?line=0'>1</a>\u001b[0m [G\u001b[39m.\u001b[39;49mnodes[node][\u001b[39m'\u001b[39;49m\u001b[39mspace\u001b[39;49m\u001b[39m'\u001b[39;49m] \u001b[39m==\u001b[39m \u001b[39m'\u001b[39m\u001b[39mtest\u001b[39m\u001b[39m'\u001b[39m \u001b[39mfor\u001b[39;00m node \u001b[39min\u001b[39;00m G\u001b[39m.\u001b[39mnodes]\n\u001b[0;32m      <a href='vscode-notebook-cell:/c%3A/Users/joche/FIM%20Kernkompetenzzentrum/Paper%20Agent-based%20Modeling%20-%20Dokumente/General/04%20ABM/python_package_tests/networkx_test.ipynb#X11sZmlsZQ%3D%3D?line=1'>2</a>\u001b[0m G\u001b[39m.\u001b[39mnodes\u001b[39m.\u001b[39mdata()\n",
      "\u001b[1;31mKeyError\u001b[0m: 'space'"
     ]
    }
   ],
   "source": [
    "[G.nodes[node]['space'] == 'test' for node in G.nodes]\n",
    "G.nodes.data()"
   ]
  },
  {
   "cell_type": "code",
   "execution_count": 56,
   "metadata": {},
   "outputs": [
    {
     "data": {
      "text/plain": [
       "NodeDataView({0: {'test': 'space', 'space': 'number_0'}, 1: {'space': 'number_1'}, 2: {'space': 'number_2'}, 3: {'space': 'number_3'}, 4: {'space': 'number_4'}})"
      ]
     },
     "execution_count": 56,
     "metadata": {},
     "output_type": "execute_result"
    }
   ],
   "source": [
    "ctr = 0\n",
    "for node in G.nodes:\n",
    "    G.nodes[node]['space'] = f'number_{ctr}'\n",
    "    ctr += 1\n",
    "\n",
    "G.nodes.data()"
   ]
  },
  {
   "cell_type": "code",
   "execution_count": 58,
   "metadata": {},
   "outputs": [
    {
     "data": {
      "text/plain": [
       "[{0, 1, 2, 3, 4}]"
      ]
     },
     "execution_count": 58,
     "metadata": {},
     "output_type": "execute_result"
    }
   ],
   "source": [
    "list(nx.connected_components(G))"
   ]
  },
  {
   "cell_type": "code",
   "execution_count": null,
   "metadata": {},
   "outputs": [],
   "source": [
    "import matplotlib.pyplot as plt\n",
    "from networkx.drawing.nx_pydot import write_dot\n",
    "\n",
    "pos = nx.nx_agraph.graphviz_layout(G)\n",
    "nx.draw(G, pos = pos)"
   ]
  }
 ],
 "metadata": {
  "kernelspec": {
   "display_name": "Python 3.10.4 ('abm')",
   "language": "python",
   "name": "python3"
  },
  "language_info": {
   "codemirror_mode": {
    "name": "ipython",
    "version": 3
   },
   "file_extension": ".py",
   "mimetype": "text/x-python",
   "name": "python",
   "nbconvert_exporter": "python",
   "pygments_lexer": "ipython3",
   "version": "3.10.4"
  },
  "orig_nbformat": 4,
  "vscode": {
   "interpreter": {
    "hash": "4b63ed5fde112eee2a1ad32ad12dbaddccd15334ac41c730b7db42f546600377"
   }
  }
 },
 "nbformat": 4,
 "nbformat_minor": 2
}
