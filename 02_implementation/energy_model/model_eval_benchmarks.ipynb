{
 "cells": [
  {
   "cell_type": "code",
   "execution_count": 1,
   "metadata": {
    "collapsed": false,
    "pycharm": {
     "name": "#%%\n"
    }
   },
   "outputs": [],
   "source": [
    "import os\n",
    "import numpy as np\n",
    "import matplotlib\n",
    "import pandas as pd\n",
    "from matplotlib import pyplot as plt\n",
    "matplotlib.rcParams.update(matplotlib.rcParamsDefault)\n",
    "import seaborn as sns\n",
    "sns.set_style('white')\n",
    "import dataframe_image as dfi\n",
    "import pickle\n",
    "from network_setup import *\n",
    "from data_setup import *\n",
    "\n",
    "from EnergyCommunityModel import *\n",
    "from model_eval import *\n",
    "\n",
    "%load_ext autoreload\n",
    "%autoreload 2\n",
    "%matplotlib inline"
   ]
  },
  {
   "cell_type": "code",
   "execution_count": 2,
   "metadata": {},
   "outputs": [],
   "source": [
    "# set up simulation scope\n",
    "input_cdir_timestamp = '2022 11 09 10h46m56s'\n",
    "basepath = os.path.join(os.getcwd(), '02_implementation\\energy_model')\n",
    "with open(os.path.join(basepath,'2022_11_13_filepaths.pickle'), 'rb') as handle:\n",
    "    paths = pickle.load(handle)\n",
    "date_t = '2022 12 16 20h00m'\n",
    "n_steps = 96*7\n",
    "\n",
    "# define comprehensive scenario settings for analysis\n",
    "scenario_sc0 = {'seasons': ['summer', 'winter'], 'p2p_options': [False], 'pr_years': [2019, 2022], 'pr_dynamic_options': [False]}\n",
    "scenario_sc1 = {'seasons': ['summer', 'winter'], 'p2p_options': [False], 'pr_years': [2019, 2022], 'pr_dynamic_options': [True]}\n",
    "scenario_sc2 = {'seasons': ['summer', 'winter'], 'p2p_options': [True], 'pr_years': [2019, 2022], 'pr_dynamic_options': [True]}\n",
    "scenario_dict = {'scenario_0': scenario_sc0, 'scenario_1': scenario_sc1, 'scenario_2': scenario_sc2}\n",
    "\n",
    "# manually define all scenarios\n",
    "scenario_0 = {'seasons': ['summer'], 'p2p_options': [False], 'pr_years': [2019], 'pr_dynamic_options': [False]}\n",
    "scenario_1 = {'seasons': ['winter'], 'p2p_options': [False], 'pr_years': [2019], 'pr_dynamic_options': [False]}\n",
    "scenario_2 = {'seasons': ['summer'], 'p2p_options': [False], 'pr_years': [2022], 'pr_dynamic_options': [False]}\n",
    "scenario_3 = {'seasons': ['winter'], 'p2p_options': [False], 'pr_years': [2022], 'pr_dynamic_options': [False]}\n",
    "\n",
    "scenario_4 = {'seasons': ['summer'], 'p2p_options': [False], 'pr_years': [2019], 'pr_dynamic_options': [True]}\n",
    "scenario_5 = {'seasons': ['winter'], 'p2p_options': [False], 'pr_years': [2019], 'pr_dynamic_options': [True]}\n",
    "scenario_6 = {'seasons': ['summer'], 'p2p_options': [False], 'pr_years': [2022], 'pr_dynamic_options': [True]}\n",
    "scenario_7 = {'seasons': ['winter'], 'p2p_options': [False], 'pr_years': [2022], 'pr_dynamic_options': [True]}\n",
    "\n",
    "scenario_8 = {'seasons': ['summer'], 'p2p_options': [True], 'pr_years': [2019], 'pr_dynamic_options': [True]}\n",
    "scenario_9 = {'seasons': ['winter'], 'p2p_options': [True], 'pr_years': [2019], 'pr_dynamic_options': [True]}\n",
    "scenario_10 = {'seasons': ['summer'], 'p2p_options': [True], 'pr_years': [2022], 'pr_dynamic_options': [True]}\n",
    "scenario_11 = {'seasons': ['winter'], 'p2p_options': [True], 'pr_years': [2022], 'pr_dynamic_options': [True]}\n",
    "\n",
    "all_scs = [scenario_0, scenario_1, scenario_2, scenario_3, scenario_4, scenario_5, \n",
    "           scenario_6, scenario_7, scenario_8, scenario_9, scenario_10, scenario_11]"
   ]
  },
  {
   "attachments": {},
   "cell_type": "markdown",
   "metadata": {},
   "source": [
    "---"
   ]
  },
  {
   "attachments": {},
   "cell_type": "markdown",
   "metadata": {},
   "source": [
    "#### Plotting P2P price levels"
   ]
  },
  {
   "cell_type": "code",
   "execution_count": null,
   "metadata": {},
   "outputs": [],
   "source": [
    "# read in mdf..."
   ]
  },
  {
   "cell_type": "code",
   "execution_count": null,
   "metadata": {},
   "outputs": [],
   "source": [
    "# plot p2p price level\n",
    "l = mdf.price_n_level.tolist()\n",
    "ind = mdf.index\n",
    "dfs = []\n",
    "for i in range(6):\n",
    "    dfs.append(pd.DataFrame([j[i] for j in l], index=ind))\n",
    "df = pd.concat(dfs, axis=1)\n",
    "df.columns = ['price g_s', 'price_n_d (1)', 'price_n_d (2)', 'price_n_d (3)', 'price_n_d (4)', 'price g_d']\n",
    "\n",
    "fig, ax = plt.subplots(figsize = (22,6))\n",
    "df.plot(ax = ax, title='P2P trading price level (ct/kWh), summer 2022', color = ['blue', 'grey', 'grey','grey','grey', 'black'])\n",
    "ax.set_ylabel('ct/kWh')\n",
    "plt.tight_layout()\n",
    "plt.show()"
   ]
  },
  {
   "cell_type": "markdown",
   "metadata": {},
   "source": [
    "---"
   ]
  },
  {
   "attachments": {},
   "cell_type": "markdown",
   "metadata": {},
   "source": [
    "#### Get overall stability metrics"
   ]
  },
  {
   "cell_type": "code",
   "execution_count": null,
   "metadata": {},
   "outputs": [
    {
     "data": {
      "text/html": [
       "<div>\n",
       "<style scoped>\n",
       "    .dataframe tbody tr th:only-of-type {\n",
       "        vertical-align: middle;\n",
       "    }\n",
       "\n",
       "    .dataframe tbody tr th {\n",
       "        vertical-align: top;\n",
       "    }\n",
       "\n",
       "    .dataframe thead th {\n",
       "        text-align: right;\n",
       "    }\n",
       "</style>\n",
       "<table border=\"1\" class=\"dataframe\">\n",
       "  <thead>\n",
       "    <tr style=\"text-align: right;\">\n",
       "      <th></th>\n",
       "      <th>net_grid_demand</th>\n",
       "      <th>autarky_level</th>\n",
       "    </tr>\n",
       "  </thead>\n",
       "  <tbody>\n",
       "    <tr>\n",
       "      <th>count</th>\n",
       "      <td>672.00</td>\n",
       "      <td>672.00</td>\n",
       "    </tr>\n",
       "    <tr>\n",
       "      <th>mean</th>\n",
       "      <td>-1.01</td>\n",
       "      <td>2.82</td>\n",
       "    </tr>\n",
       "    <tr>\n",
       "      <th>std</th>\n",
       "      <td>5.17</td>\n",
       "      <td>8.65</td>\n",
       "    </tr>\n",
       "    <tr>\n",
       "      <th>max</th>\n",
       "      <td>31.13</td>\n",
       "      <td>50.81</td>\n",
       "    </tr>\n",
       "    <tr>\n",
       "      <th>sum</th>\n",
       "      <td>-680.81</td>\n",
       "      <td>0.00</td>\n",
       "    </tr>\n",
       "  </tbody>\n",
       "</table>\n",
       "</div>"
      ],
      "text/plain": [
       "       net_grid_demand  autarky_level\n",
       "count           672.00         672.00\n",
       "mean             -1.01           2.82\n",
       "std               5.17           8.65\n",
       "max              31.13          50.81\n",
       "sum            -680.81           0.00"
      ]
     },
     "execution_count": 26,
     "metadata": {},
     "output_type": "execute_result"
    }
   ],
   "source": [
    "mdf = get_quick_mdf(paths, date_t, scenario_dict_sc=scenario_11)\n",
    "df = calculate_stability_measures(mdf)\n",
    "df"
   ]
  },
  {
   "cell_type": "code",
   "execution_count": null,
   "metadata": {
    "collapsed": false,
    "pycharm": {
     "name": "#%%\n"
    }
   },
   "outputs": [],
   "source": [
    "# calculate certain measure for certain scenario and save df as png\n",
    "m_dict = calculate_measure(paths, date_t, scenario_dict=scenario_2, measure='welfare')\n",
    "#export_measure_calculation(paths, m_dict)"
   ]
  },
  {
   "attachments": {},
   "cell_type": "markdown",
   "metadata": {},
   "source": [
    "---"
   ]
  },
  {
   "attachments": {},
   "cell_type": "markdown",
   "metadata": {},
   "source": [
    "#### Benchmark: Effectiveness of P2P trading heuristic\n",
    "Compare total energy costs with and without p2p trading heuristic"
   ]
  },
  {
   "cell_type": "code",
   "execution_count": 48,
   "metadata": {},
   "outputs": [],
   "source": [
    "# define p2p trading scenarios and label names\n",
    "selected_scenarios = [scenario_8, scenario_9, scenario_10, scenario_11]\n",
    "index_names = ['sc8', 'sc9', 'sc10', 'sc11']\n",
    "\n",
    "# read in original data with p2p trading heuristic\n",
    "date_t = '2022 12 16 20h00m'\n",
    "df_heuristic = get_quick_measure_kpis(paths, date_t, scenarios=selected_scenarios, measure='welfare')\n",
    "\n",
    "# read in new data without p2p trading heuristic\n",
    "date_t = '2023 03 08 20h00m'\n",
    "df_no_heuristic = get_quick_measure_kpis(paths, date_t, scenarios=selected_scenarios, measure='welfare')\n",
    "\n",
    "# change index labels for both data frames\n",
    "df_heuristic.index = index_names\n",
    "df_no_heuristic.index = index_names\n",
    "\n",
    "# create new dataframe with two columns for heuristic / no heuristic columsn for selected metric\n",
    "def get_comparison_df(df_heuristic, df_no_heuristic, column = 'total_costs_all'):\n",
    "    groups = [df_heuristic[column].tolist(), df_no_heuristic[column].tolist()]\n",
    "    group_labels = ['heuristic', 'no_heuristic']\n",
    "    \n",
    "    df_out = pd.DataFrame(groups, index=group_labels).T\n",
    "    df_out.index = df_heuristic.index\n",
    "    \n",
    "    return df_out"
   ]
  },
  {
   "attachments": {},
   "cell_type": "markdown",
   "metadata": {},
   "source": [
    "graphic interpretation"
   ]
  },
  {
   "cell_type": "code",
   "execution_count": 50,
   "metadata": {},
   "outputs": [
    {
     "data": {
      "image/png": "[encoded data removed]",
      "text/plain": [
       "<Figure size 1008x432 with 1 Axes>"
      ]
     },
     "metadata": {
      "needs_background": "light"
     },
     "output_type": "display_data"
    }
   ],
   "source": [
    "# change mpl font size\n",
    "matplotlib.rcParams.update({'font.size': 14})\n",
    "\n",
    "# plot total costs comparison\n",
    "df = get_comparison_df(df_heuristic, df_no_heuristic, column='total_costs_all')\n",
    "g = df.plot.bar(figsize = (14,6), rot = 0)\n",
    "for p in g.containers:\n",
    "    g.bar_label(p, fmt='%.0f', label_type='edge')\n",
    "plt.show()"
   ]
  },
  {
   "cell_type": "code",
   "execution_count": 51,
   "metadata": {},
   "outputs": [
    {
     "data": {
      "image/png": "[encoded data removed]",
      "text/plain": [
       "<Figure size 1008x432 with 1 Axes>"
      ]
     },
     "metadata": {
      "needs_background": "light"
     },
     "output_type": "display_data"
    }
   ],
   "source": [
    "# plot prosumer costs comparison\n",
    "df = get_comparison_df(df_heuristic, df_no_heuristic, column='total_costs_prosumer')\n",
    "g = df.plot.bar(figsize = (14,6), rot = 0)\n",
    "for p in g.containers:\n",
    "    g.bar_label(p, fmt='%.0f', label_type='edge')\n",
    "plt.show()"
   ]
  },
  {
   "cell_type": "code",
   "execution_count": 52,
   "metadata": {},
   "outputs": [
    {
     "data": {
      "image/png": "[encoded data removed]",
      "text/plain": [
       "<Figure size 1008x432 with 1 Axes>"
      ]
     },
     "metadata": {
      "needs_background": "light"
     },
     "output_type": "display_data"
    }
   ],
   "source": [
    "# plot consmer costs comparison\n",
    "df = get_comparison_df(df_heuristic, df_no_heuristic, column='total_costs_consumer')\n",
    "g = df.plot.bar(figsize = (14,6), rot = 0)\n",
    "for p in g.containers:\n",
    "    g.bar_label(p, fmt='%.0f', label_type='edge')\n",
    "plt.show()"
   ]
  },
  {
   "attachments": {},
   "cell_type": "markdown",
   "metadata": {},
   "source": [
    "quantifying benefit of p2p trading heuristic"
   ]
  },
  {
   "cell_type": "code",
   "execution_count": 79,
   "metadata": {},
   "outputs": [],
   "source": [
    "def compute_absolute_change(df_heuristic, df_no_heuristic, column = 'total_costs_all'):\n",
    "    df = get_comparison_df(df_heuristic, df_no_heuristic, column=column)\n",
    "    # subtract heuristic from non-heuristic column to obtain benefit of heuristic\n",
    "    delta = df.iloc[:,1] - df.iloc[:,0]\n",
    "    return delta\n",
    "\n",
    "def compute_relative_change(df_heuristic, df_no_heuristic, column = 'total_costs_all'):\n",
    "    # compute absolute change\n",
    "    delta = compute_absolute_change(df_heuristic, df_no_heuristic, column=column)\n",
    "    # compute percentage change\n",
    "    return delta / df_heuristic[column].abs()\n",
    "\n",
    "# applying function to three relevant columns: all, prosumer, and consumer\n",
    "delta_all = compute_relative_change(df_heuristic, df_no_heuristic, column='total_costs_all')\n",
    "delta_prosumer = compute_relative_change(df_heuristic, df_no_heuristic, column='total_costs_prosumer')\n",
    "delta_consumer = compute_relative_change(df_heuristic, df_no_heuristic, column='total_costs_consumer')"
   ]
  },
  {
   "cell_type": "code",
   "execution_count": 83,
   "metadata": {},
   "outputs": [
    {
     "data": {
      "text/plain": [
       "sc8     0.019144\n",
       "sc9     0.086319\n",
       "sc10      2.9433\n",
       "sc11    0.642223\n",
       "dtype: object"
      ]
     },
     "execution_count": 83,
     "metadata": {},
     "output_type": "execute_result"
    }
   ],
   "source": [
    "delta_all"
   ]
  }
 ],
 "metadata": {
  "kernelspec": {
   "display_name": "abm",
   "language": "python",
   "name": "abm"
  },
  "language_info": {
   "codemirror_mode": {
    "name": "ipython",
    "version": 3
   },
   "file_extension": ".py",
   "mimetype": "text/x-python",
   "name": "python",
   "nbconvert_exporter": "python",
   "pygments_lexer": "ipython3",
   "version": "3.10.4"
  }
 },
 "nbformat": 4,
 "nbformat_minor": 0
}
