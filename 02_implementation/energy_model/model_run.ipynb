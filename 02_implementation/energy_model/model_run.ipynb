{
 "cells": [
  {
   "cell_type": "code",
   "execution_count": 1,
   "metadata": {},
   "outputs": [],
   "source": [
    "import os\n",
    "import pickle\n",
    "from network_setup import *\n",
    "from data_setup import *\n",
    "\n",
    "from EnergyCommunityModel import *\n",
    "from model_eval import *\n",
    "\n",
    "%load_ext autoreload\n",
    "%autoreload 2\n",
    "%matplotlib inline"
   ]
  },
  {
   "cell_type": "code",
   "execution_count": 2,
   "metadata": {},
   "outputs": [],
   "source": [
    "# set up simulation scope\n",
    "input_cdir_timestamp = '2022 11 09 10h46m56s'\n",
    "basepath = os.path.join(os.path.join(os.getcwd(), '02_implementation\\energy_model'))\n",
    "with open(os.path.join(basepath, '2022_11_13_filepaths.pickle'), 'rb') as handle:\n",
    "    paths = pickle.load(handle)\n",
    "date_t = '2023 03 07 17h00m'\n",
    "n_steps = 10\n",
    "\n",
    "# define comprehensive scenario settings for analysis\n",
    "scenario_sc0 = {'seasons': ['summer', 'winter'], 'p2p_options': [False], 'pr_years': [2019, 2022], 'pr_dynamic_options': [False]}\n",
    "scenario_sc1 = {'seasons': ['summer', 'winter'], 'p2p_options': [False], 'pr_years': [2019, 2022], 'pr_dynamic_options': [True]}\n",
    "scenario_sc2 = {'seasons': ['summer', 'winter'], 'p2p_options': [True], 'pr_years': [2019, 2022], 'pr_dynamic_options': [True]}\n",
    "scenario_dict = {'scenario_0': scenario_sc0, 'scenario_1': scenario_sc1, 'scenario_2': scenario_sc2}\n",
    "\n",
    "# manually define all scenarios\n",
    "scenario_0 = {'seasons': ['summer'], 'p2p_options': [False], 'pr_years': [2019], 'pr_dynamic_options': [False]}\n",
    "scenario_1 = {'seasons': ['winter'], 'p2p_options': [False], 'pr_years': [2019], 'pr_dynamic_options': [False]}\n",
    "scenario_2 = {'seasons': ['summer'], 'p2p_options': [False], 'pr_years': [2022], 'pr_dynamic_options': [False]}\n",
    "scenario_3 = {'seasons': ['winter'], 'p2p_options': [False], 'pr_years': [2022], 'pr_dynamic_options': [False]}\n",
    "\n",
    "scenario_4 = {'seasons': ['summer'], 'p2p_options': [False], 'pr_years': [2019], 'pr_dynamic_options': [True]}\n",
    "scenario_5 = {'seasons': ['winter'], 'p2p_options': [False], 'pr_years': [2019], 'pr_dynamic_options': [True]}\n",
    "scenario_6 = {'seasons': ['summer'], 'p2p_options': [False], 'pr_years': [2022], 'pr_dynamic_options': [True]}\n",
    "scenario_7 = {'seasons': ['winter'], 'p2p_options': [False], 'pr_years': [2022], 'pr_dynamic_options': [True]}\n",
    "\n",
    "scenario_8 = {'seasons': ['summer'], 'p2p_options': [True], 'pr_years': [2019], 'pr_dynamic_options': [True]}\n",
    "scenario_9 = {'seasons': ['winter'], 'p2p_options': [True], 'pr_years': [2019], 'pr_dynamic_options': [True]}\n",
    "scenario_10 = {'seasons': ['summer'], 'p2p_options': [True], 'pr_years': [2022], 'pr_dynamic_options': [True]}\n",
    "scenario_11 = {'seasons': ['winter'], 'p2p_options': [True], 'pr_years': [2022], 'pr_dynamic_options': [True]}\n",
    "all_scs = [scenario_0, scenario_4, scenario_8, scenario_1, scenario_5, scenario_9, scenario_2, scenario_6, scenario_10, scenario_3, scenario_7, scenario_11]"
   ]
  },
  {
   "cell_type": "code",
   "execution_count": 3,
   "metadata": {},
   "outputs": [
    {
     "name": "stdout",
     "output_type": "stream",
     "text": [
      "Set parameter Username\n",
      "Academic license - for non-commercial use only - expires 2023-08-31\n",
      "--- START: 2023 03 07 17h00m_mdf,adf_season_winter_p2p_True_year_2022_dyn_True\n",
      "--- Step 0/10 done. Time: 0:00:14. mean(n_d_share): 1.0, mean(n_s_share): 1.0 ---\n",
      "--- Step 1/10 done. Time: 0:00:13. mean(n_d_share): 0.99, mean(n_s_share): 1.0 ---\n",
      "--- Step 2/10 done. Time: 0:00:13. mean(n_d_share): 0.98, mean(n_s_share): 1.0 ---\n",
      "--- Step 3/10 done. Time: 0:00:13. mean(n_d_share): 0.97, mean(n_s_share): 1.0 ---\n",
      "--- Step 4/10 done. Time: 0:00:14. mean(n_d_share): 0.96, mean(n_s_share): 1.0 ---\n",
      "--- Step 5/10 done. Time: 0:00:13. mean(n_d_share): 0.95, mean(n_s_share): 1.0 ---\n",
      "--- Step 6/10 done. Time: 0:00:13. mean(n_d_share): 0.94, mean(n_s_share): 1.0 ---\n",
      "--- Step 7/10 done. Time: 0:00:13. mean(n_d_share): 0.93, mean(n_s_share): 1.0 ---\n",
      "--- Step 8/10 done. Time: 0:00:14. mean(n_d_share): 0.92, mean(n_s_share): 1.0 ---\n",
      "--- Step 9/10 done. Time: 0:00:13. mean(n_d_share): 0.91, mean(n_s_share): 1.0 ---\n",
      "--- SUCCESS: 2023 03 07 17h00m_mdf,adf_season_winter_p2p_True_year_2022_dyn_True stored. Total simulation time: 0:02:47 ---\n"
     ]
    }
   ],
   "source": [
    "# 11\n",
    "batch_runner(paths, sc_dict=scenario_11, n_steps=n_steps, input_cdir_timestamp=input_cdir_timestamp, output_dir_timestamp=date_t)"
   ]
  }
 ],
 "metadata": {
  "kernelspec": {
   "display_name": "abm",
   "language": "python",
   "name": "python3"
  },
  "language_info": {
   "codemirror_mode": {
    "name": "ipython",
    "version": 3
   },
   "file_extension": ".py",
   "mimetype": "text/x-python",
   "name": "python",
   "nbconvert_exporter": "python",
   "pygments_lexer": "ipython3",
   "version": "3.10.4"
  },
  "orig_nbformat": 4,
  "vscode": {
   "interpreter": {
    "hash": "4b63ed5fde112eee2a1ad32ad12dbaddccd15334ac41c730b7db42f546600377"
   }
  }
 },
 "nbformat": 4,
 "nbformat_minor": 2
}
